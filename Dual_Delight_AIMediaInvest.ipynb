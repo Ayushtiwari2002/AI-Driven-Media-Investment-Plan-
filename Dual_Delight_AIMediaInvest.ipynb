{
  "nbformat": 4,
  "nbformat_minor": 0,
  "metadata": {
    "colab": {
      "provenance": [],
      "gpuType": "T4"
    },
    "kernelspec": {
      "name": "python3",
      "display_name": "Python 3"
    },
    "language_info": {
      "name": "python"
    },
    "accelerator": "GPU"
  },
  "cells": [
    {
      "cell_type": "markdown",
      "source": [
        "### Mount Google Drive"
      ],
      "metadata": {
        "id": "0FzbGElqIHlK"
      }
    },
    {
      "cell_type": "code",
      "execution_count": null,
      "metadata": {
        "id": "kGFAk6sx6Q6W",
        "colab": {
          "base_uri": "https://localhost:8080/"
        },
        "outputId": "97a1fae9-2f36-4eb2-a11d-fe7edc46caba"
      },
      "outputs": [
        {
          "output_type": "stream",
          "name": "stdout",
          "text": [
            "Drive already mounted at /content/drive; to attempt to forcibly remount, call drive.mount(\"/content/drive\", force_remount=True).\n"
          ]
        }
      ],
      "source": [
        "from google.colab import drive\n",
        "import pandas as pd\n",
        "import os\n",
        "\n",
        "drive.mount('/content/drive')"
      ]
    },
    {
      "cell_type": "markdown",
      "source": [
        "#### Define the path to datasets"
      ],
      "metadata": {
        "id": "1PToQEJsIQSE"
      }
    },
    {
      "cell_type": "code",
      "source": [
        "data_dir1 = '/content/drive/My Drive/NetelixirDatasets/Netelixir AIgnition Dataset 1'\n",
        "data_dir2 = '/content/drive/My Drive/NetelixirDatasets/Netelixir AIgnition Dataset 2'\n",
        "\n",
        "# Load datasets\n",
        "def load_datasets(data_dir):\n",
        "    datasets = {}\n",
        "    for file_name in os.listdir(data_dir):\n",
        "        if file_name.endswith('.csv'):\n",
        "            datasets[file_name] = pd.read_csv(os.path.join(data_dir, file_name))\n",
        "    return datasets\n",
        "\n",
        "datasets1 = load_datasets(data_dir1)\n",
        "datasets2 = load_datasets(data_dir2)\n"
      ],
      "metadata": {
        "id": "36BNOBCaHgc0"
      },
      "execution_count": null,
      "outputs": []
    },
    {
      "cell_type": "markdown",
      "source": [
        "### Display the first few rows of each dataset"
      ],
      "metadata": {
        "id": "wo8iIfiKH-Ay"
      }
    },
    {
      "cell_type": "code",
      "source": [
        "# Example: Display the first few rows of each dataset\n",
        "for name, df in datasets1.items():\n",
        "    print(f\"{name} (Dataset 1):\")\n",
        "    print(df.head())\n",
        "    print()\n",
        "\n",
        "for name, df in datasets2.items():\n",
        "    print(f\"{name} (Dataset 2):\")\n",
        "    print(df.head())\n",
        "    print()\n"
      ],
      "metadata": {
        "colab": {
          "base_uri": "https://localhost:8080/"
        },
        "id": "hGq4ZeBsHq_l",
        "outputId": "4efe7b9f-403f-4b5b-96f5-a722ee211745"
      },
      "execution_count": null,
      "outputs": [
        {
          "output_type": "stream",
          "name": "stdout",
          "text": [
            "googleads-performance.csv (Dataset 1):\n",
            "         Date    Campaign type  Impressions  Clicks    Cost  Conversions  \\\n",
            "0  2024-01-01    Cross-network     143669.0   896.0   656.3          6.5   \n",
            "1  2024-01-01  Display Network          3.0     0.0     0.0          0.0   \n",
            "2  2024-01-01   Search Network       3701.0   251.0   496.5          4.5   \n",
            "3  2024-01-01          YouTube      36211.0     8.0   115.2          0.0   \n",
            "4  2024-01-02    Cross-network     183496.0  1172.0  1525.0          8.8   \n",
            "\n",
            "   Revenue  \n",
            "0   1410.3  \n",
            "1      0.0  \n",
            "2    576.4  \n",
            "3      0.0  \n",
            "4   3565.7  \n",
            "\n",
            "microsoftads-performance.csv (Dataset 1):\n",
            "         Date     Campaign type  Impressions  Clicks   Cost  Conversions  \\\n",
            "0  2024-01-01          Audience       9132.0    50.0   26.8          0.0   \n",
            "1  2024-01-01   Performance max        897.0     9.0    7.0          0.0   \n",
            "2  2024-01-01  Search & content      95977.0   561.0  846.5          1.0   \n",
            "3  2024-01-01          Shopping      59860.0   343.0  215.2          1.0   \n",
            "4  2024-01-02          Audience       9926.0    49.0   25.9          0.0   \n",
            "\n",
            "   Revenue  \n",
            "0      0.0  \n",
            "1      0.0  \n",
            "2    168.8  \n",
            "3    143.5  \n",
            "4      0.0  \n",
            "\n",
            "metaads-performance.csv (Dataset 1):\n",
            "         Date  Impressions    Reach   Cost  Clicks  Conversions  Revenue\n",
            "0  2024-01-01      36034.0  27263.0  209.1   608.0          4.0    158.2\n",
            "1  2024-01-02      30804.0  22648.0  204.9   516.0         11.0   1412.8\n",
            "2  2024-01-03      26372.0  18947.0  198.7   429.0          4.0    371.5\n",
            "3  2024-01-04      17354.0  11436.0  131.2   324.0          4.0      0.0\n",
            "4  2024-01-05      12036.0   7921.0  114.0   224.0          2.0      0.0\n",
            "\n",
            "website-landings.csv (Dataset 1):\n",
            "    User Id Website Landing Time  Is Converted Source Channel Campaign Type\n",
            "0  20a70111  2024-02-29 01:57:19             0    NaN  direct           NaN\n",
            "1  20a70111  2024-02-29 01:57:20             0    NaN  direct           NaN\n",
            "2  20a70111  2024-02-29 01:57:22             0    NaN  direct           NaN\n",
            "3  20a70111  2024-02-29 01:57:22             0    NaN  direct           NaN\n",
            "4  20a70111  2024-02-29 01:57:26             0    NaN  direct           NaN\n",
            "\n",
            "facebookads-performance.csv (Dataset 2):\n",
            "         Date  Impressions  Reach  Cost  Clicks  Conversions  Revenue\n",
            "0  2024-01-01      19172.0  17260  103.4   351.0          3.0     80.1\n",
            "1  2024-01-02      14748.0  12853  106.9   247.0          5.0    212.9\n",
            "2  2024-01-03      11119.0   9853   90.6   186.0          4.0     79.0\n",
            "3  2024-01-04       6354.0   5475   51.3   119.0          2.0     13.3\n",
            "4  2024-01-05       4463.0   3800   45.2    95.0          2.0      0.0\n",
            "\n",
            "googleads-performance.csv (Dataset 2):\n",
            "         Date    Campaign type  Impressions  Clicks    Cost  Conversions  \\\n",
            "0  2024-01-01    Cross-network     143669.0   896.0   656.3          6.5   \n",
            "1  2024-01-01  Display Network          3.0     0.0     0.0          0.0   \n",
            "2  2024-01-01   Search Network       3701.0   251.0   496.5          4.5   \n",
            "3  2024-01-01          YouTube      36211.0     8.0   115.2          0.0   \n",
            "4  2024-01-02    Cross-network     183496.0  1172.0  1525.0          8.8   \n",
            "\n",
            "   Revenue  \n",
            "0   1410.3  \n",
            "1      0.0  \n",
            "2    576.4  \n",
            "3      0.0  \n",
            "4   3565.7  \n",
            "\n",
            "microsoftads-performance.csv (Dataset 2):\n",
            "         Date     Campaign type  Impressions  Clicks   Cost  Conversions  \\\n",
            "0  2024-01-01          Audience       9132.0    50.0   26.8          0.0   \n",
            "1  2024-01-01   Performance max        897.0     9.0    7.0          0.0   \n",
            "2  2024-01-01  Search & content      95977.0   561.0  846.5          1.0   \n",
            "3  2024-01-01          Shopping      59860.0   343.0  215.2          1.0   \n",
            "4  2024-01-02          Audience       9926.0    49.0   25.9          0.0   \n",
            "\n",
            "   Revenue  \n",
            "0      0.0  \n",
            "1      0.0  \n",
            "2    168.8  \n",
            "3    143.5  \n",
            "4      0.0  \n",
            "\n",
            "metaads-performance.csv (Dataset 2):\n",
            "         Date  Impressions    Reach   Cost  Clicks  Conversions  Revenue\n",
            "0  2024-01-01      36034.0  27263.0  209.1   608.0          4.0    158.2\n",
            "1  2024-01-02      30804.0  22648.0  204.9   516.0         11.0   1412.8\n",
            "2  2024-01-03      26372.0  18947.0  198.7   429.0          4.0    371.5\n",
            "3  2024-01-04      17354.0  11436.0  131.2   324.0          4.0      0.0\n",
            "4  2024-01-05      12036.0   7921.0  114.0   224.0          2.0      0.0\n",
            "\n",
            "website-landings.csv (Dataset 2):\n",
            "    User Id Website Landing Time  Is Converted Source Channel Campaign Type\n",
            "0  20a70111  2024-02-29 01:57:19             0    NaN  direct           NaN\n",
            "1  20a70111  2024-02-29 01:57:20             0    NaN  direct           NaN\n",
            "2  20a70111  2024-02-29 01:57:22             0    NaN  direct           NaN\n",
            "3  20a70111  2024-02-29 01:57:22             0    NaN  direct           NaN\n",
            "4  20a70111  2024-02-29 01:57:26             0    NaN  direct           NaN\n"
          ]
        }
      ]
    },
    {
      "cell_type": "markdown",
      "source": [
        "### Perform Data Analysis"
      ],
      "metadata": {
        "id": "O35Md1QDIpT0"
      }
    },
    {
      "cell_type": "code",
      "source": [
        "# Example: Perform descriptive statistics on the datasets\n",
        "for name, df in datasets1.items():\n",
        "    print(f\"Descriptive statistics for {name} (Dataset 1):\")\n",
        "    print(df.describe())\n",
        "    print()\n",
        "\n",
        "for name, df in datasets2.items():\n",
        "    print(f\"Descriptive statistics for {name} (Dataset 2):\")\n",
        "    print(df.describe())\n",
        "    print()\n"
      ],
      "metadata": {
        "colab": {
          "base_uri": "https://localhost:8080/"
        },
        "id": "kxOigicrJdGB",
        "outputId": "b9d9467f-4de0-4d3d-e07e-e7f72e6ea262"
      },
      "execution_count": null,
      "outputs": [
        {
          "output_type": "stream",
          "name": "stdout",
          "text": [
            "Descriptive statistics for googleads-performance.csv (Dataset 1):\n",
            "       Impressions       Clicks        Cost  Conversions      Revenue\n",
            "count  63.000000   63.000000   63.000000   63.000000    63.000000\n",
            "mean  40122.333333  256.761905  331.476190    2.682540   560.390476\n",
            "std   49019.670398  337.410563  372.158788    3.500888   936.234415\n",
            "min       0.000000    0.000000    0.000000    0.000000     0.000000\n",
            "25%    3805.500000   28.500000   50.200000    0.000000     0.000000\n",
            "50%   26267.000000  189.000000  232.900000    0.800000   207.600000\n",
            "75%   69707.500000  383.000000  611.600000    4.000000   599.300000\n",
            "max  183496.000000 1172.000000 1525.000000   12.700000  3565.700000\n",
            "\n",
            "Descriptive statistics for metaads-performance.csv (Dataset 1):\n",
            "         Impressions         Reach         Cost       Clicks  Conversions  \\\n",
            "count     32.000000     32.000000     32.000000    32.000000    32.000000   \n",
            "mean   24378.906250  18517.000000    151.381250   413.187500     3.312500   \n",
            "std    15559.574715  12814.279343     97.133932   259.847912     3.323665   \n",
            "min     4463.000000   3800.000000     45.200000    95.000000     0.000000   \n",
            "25%    12984.250000   9948.500000     88.275000   232.250000     1.000000   \n",
            "50%    21363.000000  16192.500000    143.100000   351.000000     2.000000   \n",
            "75%    31034.500000  23657.250000    198.625000   547.750000     4.000000   \n",
            "max    63573.000000  44893.000000    436.500000   959.000000    12.000000   \n",
            "\n",
            "Descriptive statistics for facebookads-performance.csv (Dataset 1):\n",
            "        Impressions         Reach       Cost      Clicks  Conversions  \\\n",
            "count     63.000000     63.000000  63.000000    63.000000    63.000000   \n",
            "mean   28338.793651  23747.968254  85.171429   554.793651     5.238095   \n",
            "std    25255.862348  20817.225002  85.013837   483.058179     5.441505   \n",
            "min     2060.000000   1546.000000   3.200000    36.000000     0.000000   \n",
            "25%    11050.000000   9415.000000  30.900000   225.000000     2.000000   \n",
            "50%    20042.000000  16572.000000  56.300000   428.000000     4.000000   \n",
            "75%    35289.000000  29561.000000 111.700000   781.000000     7.000000   \n",
            "max    92780.000000  77923.000000 364.300000  2075.000000    22.000000   \n",
            "\n",
            "Descriptive statistics for googleads-performance.csv (Dataset 2):\n",
            "       Impressions       Clicks        Cost  Conversions      Revenue\n",
            "count  63.000000   63.000000   63.000000   63.000000    63.000000\n",
            "mean  40122.333333  256.761905  331.476190    2.682540   560.390476\n",
            "std   49019.670398  337.410563  372.158788    3.500888   936.234415\n",
            "min       0.000000    0.000000    0.000000    0.000000     0.000000\n",
            "25%    3805.500000   28.500000   50.200000    0.000000     0.000000\n",
            "50%   26267.000000  189.000000  232.900000    0.800000   207.600000\n",
            "75%   69707.500000  383.000000  611.600000    4.000000   599.300000\n",
            "max  183496.000000 1172.000000 1525.000000   12.700000  3565.700000\n",
            "\n",
            "Descriptive statistics for metaads-performance.csv (Dataset 2):\n",
            "         Impressions         Reach         Cost       Clicks  Conversions  \\\n",
            "count     32.000000     32.000000     32.000000    32.000000    32.000000   \n",
            "mean   24378.906250  18517.000000    151.381250   413.187500     3.312500   \n",
            "std    15559.574715  12814.279343     97.133932   259.847912     3.323665   \n",
            "min     4463.000000   3800.000000     45.200000    95.000000     0.000000   \n",
            "25%    12984.250000   9948.500000     88.275000   232.250000     1.000000   \n",
            "50%    21363.000000  16192.500000    143.100000   351.000000     2.000000   \n",
            "75%    31034.500000  23657.250000    198.625000   547.750000     4.000000   \n",
            "max    63573.000000  44893.000000    436.500000   959.000000    12.000000   \n",
            "\n",
            "Descriptive statistics for facebookads-performance.csv (Dataset 2):\n",
            "        Impressions         Reach       Cost      Clicks  Conversions  \\\n",
            "count     63.000000     63.000000  63.000000    63.000000    63.000000   \n",
            "mean   28338.793651  23747.968254  85.171429   554.793651     5.238095   \n",
            "std    25255.862348  20817.225002  85.013837   483.058179     5.441505   \n",
            "min     2060.000000   1546.000000   3.200000    36.000000     0.000000   \n",
            "25%    11050.000000   9415.000000  30.900000   225.000000     2.000000   \n",
            "50%    20042.000000  16572.000000  56.300000   428.000000     4.000000   \n",
            "75%    35289.000000  29561.000000 111.700000   781.000000     7.000000   \n",
            "max    92780.000000  77923.000000 364.300000  2075.000000    22.000000   \n",
            "\n"
          ]
        }
      ]
    },
    {
      "cell_type": "markdown",
      "source": [
        "The descriptive statistics above give us insights into the distribution, central tendency, and variability of various metrics across different advertising platforms and datasets."
      ],
      "metadata": {
        "id": "AK7G0QF1Is2E"
      }
    }
  ]
}
